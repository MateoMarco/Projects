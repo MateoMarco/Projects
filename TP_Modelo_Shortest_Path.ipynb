{
  "nbformat": 4,
  "nbformat_minor": 0,
  "metadata": {
    "colab": {
      "provenance": [],
      "authorship_tag": "ABX9TyP8Z2smUTGvLpUUYutuQMZv",
      "include_colab_link": true
    },
    "kernelspec": {
      "name": "python3",
      "display_name": "Python 3"
    },
    "language_info": {
      "name": "python"
    }
  },
  "cells": [
    {
      "cell_type": "markdown",
      "metadata": {
        "id": "view-in-github",
        "colab_type": "text"
      },
      "source": [
        "<a href=\"https://colab.research.google.com/github/MateoMarco/Shortest-Path-Resolution/blob/main/TP_Modelo_Shortest_Path.ipynb\" target=\"_parent\"><img src=\"https://colab.research.google.com/assets/colab-badge.svg\" alt=\"Open In Colab\"/></a>"
      ]
    },
    {
      "cell_type": "code",
      "source": [
        "!gdown --id 1ilCs1ioq-0bfdhg_nuOy91e_iBD-NDAT\n",
        "\n",
        "import pandas as pd\n",
        "df = pd.read_csv(\"datos.csv\", sep=',')\n",
        "df"
      ],
      "metadata": {
        "id": "TzDMSp-b8Ya8"
      },
      "execution_count": null,
      "outputs": []
    },
    {
      "cell_type": "code",
      "source": [
        "from google.colab import data_table\n",
        "data_table.DataTable(df)"
      ],
      "metadata": {
        "id": "5Svgwov09Z3-"
      },
      "execution_count": null,
      "outputs": []
    },
    {
      "cell_type": "markdown",
      "source": [
        "Elimino la primera columna ya que de por si se crea solo un index, porl o que no va a ser necesaria:\n",
        "\n",
        "Inplace=True trabaja com el objeto original\n",
        "\n",
        "Axis=1 elimino columna (no fila)"
      ],
      "metadata": {
        "id": "2CxTfEW_7iEL"
      }
    },
    {
      "cell_type": "code",
      "source": [
        "col_names = list(df.columns)\n",
        "\n",
        "df.drop(col_names[0], inplace=True, axis=1)\n",
        "df"
      ],
      "metadata": {
        "id": "nCfn_NQpHcDT"
      },
      "execution_count": null,
      "outputs": []
    },
    {
      "cell_type": "code",
      "source": [
        "!pip install igraph"
      ],
      "metadata": {
        "id": "vpP6zqJ0_Jrz"
      },
      "execution_count": null,
      "outputs": []
    },
    {
      "cell_type": "code",
      "source": [
        "import igraph as ig"
      ],
      "metadata": {
        "id": "sAp-TBmw-_Mk"
      },
      "execution_count": null,
      "outputs": []
    },
    {
      "cell_type": "markdown",
      "source": [
        "Creo el grafo, primero los nodos:"
      ],
      "metadata": {
        "id": "fZIrkJYlAtCQ"
      }
    },
    {
      "cell_type": "code",
      "source": [
        "edges = [(1, 2), (1, 3), (1, 4), (2, 5), (2, 6), (3, 2), (3, 4), (3,6), (4,6), (4,7), (5,8), (6,5), (6,7), (6,8), (7,8)]\n",
        "g = ig.Graph(len(edges),\n",
        "             edges\n",
        "             )"
      ],
      "metadata": {
        "id": "8C2phdq3_WN7"
      },
      "execution_count": null,
      "outputs": []
    },
    {
      "cell_type": "markdown",
      "source": [
        "Me quedo con los edges acorde al padron:"
      ],
      "metadata": {
        "id": "GkMeAc2pM05a"
      }
    },
    {
      "cell_type": "code",
      "source": [
        "padron = int(input(\"Ingrese el ultimo digito del padron: \"))\n",
        "weights = df.iloc[padron,]\n",
        "weights"
      ],
      "metadata": {
        "colab": {
          "base_uri": "https://localhost:8080/"
        },
        "id": "za9EEbrT7gQo",
        "outputId": "49320361-ec99-4b5a-ec2d-3e47b8b60f2d"
      },
      "execution_count": null,
      "outputs": [
        {
          "name": "stdout",
          "output_type": "stream",
          "text": [
            "Ingrese el ultimo digito del padron: 3\n"
          ]
        },
        {
          "output_type": "execute_result",
          "data": {
            "text/plain": [
              "x12      2305\n",
              " x13     1241\n",
              " x14     2117\n",
              " x25     1149\n",
              " x26     1032\n",
              " x32     1157\n",
              " x34     1430\n",
              " x36     1969\n",
              " x46     1293\n",
              " x47      539\n",
              " x58      787\n",
              " x65     1181\n",
              " x67      945\n",
              " x68     2453\n",
              " x78     1435\n",
              "Name: 3, dtype: int64"
            ]
          },
          "metadata": {},
          "execution_count": 42
        }
      ]
    },
    {
      "cell_type": "markdown",
      "source": [
        "Cargo los weights:"
      ],
      "metadata": {
        "id": "m9eElpnxAqVr"
      }
    },
    {
      "cell_type": "code",
      "source": [
        "g.es[\"weight\"] = weights"
      ],
      "metadata": {
        "id": "Gp5xaYJC_dx2"
      },
      "execution_count": null,
      "outputs": []
    },
    {
      "cell_type": "markdown",
      "source": [
        "Calculo el camino optimo:"
      ],
      "metadata": {
        "id": "wIL_NRgxF4Ui"
      }
    },
    {
      "cell_type": "code",
      "source": [
        "path_edges = g.get_shortest_paths(\n",
        "    1,\n",
        "    to=8,\n",
        "    weights=g.es[\"weight\"],\n",
        "    output=\"epath\",\n",
        ")\n",
        "if len(path_edges[0]) > 0:\n",
        "    distance = 0\n",
        "    for e in path_edges[0]:\n",
        "        distance += g.es[e][\"weight\"]\n",
        "    print(\"La distancia mas corta es de:\", distance)\n",
        "else:\n",
        "    print(\"Error. No se pudo obtener solucion\")\n",
        "\n",
        "for i in range(len(path_edges[0])):\n",
        "  print(f\"Paso numero {i+1}: Moverse desde {edges[path_edges[0][i]][0]} hacia {edges[path_edges[0][i]][1]}. Distancia: {weights[path_edges[0][i]]} km\")\n"
      ],
      "metadata": {
        "colab": {
          "base_uri": "https://localhost:8080/"
        },
        "id": "vnDGJWeqFBYD",
        "outputId": "9a61e3f2-8837-4592-be2d-c54f23a62b82"
      },
      "execution_count": null,
      "outputs": [
        {
          "output_type": "stream",
          "name": "stdout",
          "text": [
            "La distancia mas corta es de: 3584\n",
            "Paso numero 1: Moverse desde 1 hacia 4. Distancia: 2003 unidades\n",
            "Paso numero 2: Moverse desde 4 hacia 7. Distancia: 908 unidades\n",
            "Paso numero 3: Moverse desde 7 hacia 8. Distancia: 673 unidades\n"
          ]
        }
      ]
    }
  ]
}